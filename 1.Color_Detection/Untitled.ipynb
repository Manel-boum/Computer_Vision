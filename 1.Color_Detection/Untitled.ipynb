{
 "cells": [
  {
   "cell_type": "code",
   "execution_count": 1,
   "id": "1a60aa52-a177-47c7-87de-a0706eadb9db",
   "metadata": {},
   "outputs": [
    {
     "name": "stdout",
     "output_type": "stream",
     "text": [
      "Requirement already satisfied: opencv-python in d:\\yousra\\anaconda\\lib\\site-packages (4.10.0.84)\n",
      "Requirement already satisfied: numpy>=1.21.2 in d:\\yousra\\anaconda\\lib\\site-packages (from opencv-python) (1.26.4)\n",
      "Requirement already satisfied: numpy in d:\\yousra\\anaconda\\lib\\site-packages (1.26.4)\n",
      "Requirement already satisfied: Pillow in d:\\yousra\\anaconda\\lib\\site-packages (10.3.0)\n"
     ]
    }
   ],
   "source": [
    "!pip install opencv-python \n",
    "!pip install numpy \n",
    "!pip install Pillow"
   ]
  },
  {
   "cell_type": "code",
   "execution_count": null,
   "id": "50806991-53e8-47fb-8d64-e1ed144fb0e8",
   "metadata": {},
   "outputs": [],
   "source": [
    "import cv2\n",
    "from PIL import Image \n",
    "import numpy as np\n",
    "\n",
    "yellow = [0, 255, 255]  # jaune en espace de couleur BGR\n",
    "cap = cv2.VideoCapture(0)  # accès à la caméra par défaut\n",
    "\n",
    "def get_limits(color):\n",
    "    # Convertir la couleur BGR en HSV\n",
    "    hsv_color = np.uint8([[color]])\n",
    "    hsv_color = cv2.cvtColor(hsv_color, cv2.COLOR_BGR2HSV)\n",
    "\n",
    "    # Calculer les limites (par exemple ±10 pour la teinte)\n",
    "    lowerLimit = np.array([hsv_color[0][0][0] - 10, 100, 100])\n",
    "    upperLimit = np.array([hsv_color[0][0][0] + 10, 255, 255])\n",
    "\n",
    "    return lowerLimit, upperLimit\n",
    "\n",
    "while True: \n",
    "    ret, frame = cap.read()\n",
    "\n",
    "    if not ret:\n",
    "        print(\"Erreur lors de la capture de la vidéo.\")\n",
    "        break\n",
    "\n",
    "    # Convertir l'image en espace de couleurs HSV\n",
    "    hsvImage = cv2.cvtColor(frame, cv2.COLOR_BGR2HSV)\n",
    "\n",
    "    # Obtenir les limites pour la couleur jaune en HSV\n",
    "    lowerLimit, upperLimit = get_limits(color=yellow)\n",
    "    \n",
    "    # Créer un masque basé sur la détection de la couleur\n",
    "    mask = cv2.inRange(hsvImage, lowerLimit, upperLimit)\n",
    "\n",
    "    #draw now an borded box à l'image \n",
    "    mask_ = Image.fromarray(mask)\n",
    "\n",
    "    bbox = mask_.getbbox()\n",
    "\n",
    "    if bbox is not None: \n",
    "        x1, y1, x2, y2 = bbox\n",
    "\n",
    "        frame = cv2.rectangle(frame, (x1, y1), (x2, y2), (0, 255, 0), 5)\n",
    "\n",
    "    #print(bbox)\n",
    "    \n",
    "    # Afficher le masque\n",
    "    cv2.imshow('frame', frame)\n",
    "\n",
    "    # Quitter si 'q' est pressé\n",
    "    if cv2.waitKey(1) & 0xFF == ord('q'): \n",
    "        break\n",
    "\n",
    "# Libérer la capture vidéo et fermer les fenêtres\n",
    "cap.release()\n",
    "cv2.destroyAllWindows()\n"
   ]
  },
  {
   "cell_type": "code",
   "execution_count": null,
   "id": "75a1ca49-7a58-4a96-b45f-c0970c4ca363",
   "metadata": {},
   "outputs": [],
   "source": [
    "\n"
   ]
  }
 ],
 "metadata": {
  "kernelspec": {
   "display_name": "Python 3 (ipykernel)",
   "language": "python",
   "name": "python3"
  },
  "language_info": {
   "codemirror_mode": {
    "name": "ipython",
    "version": 3
   },
   "file_extension": ".py",
   "mimetype": "text/x-python",
   "name": "python",
   "nbconvert_exporter": "python",
   "pygments_lexer": "ipython3",
   "version": "3.12.4"
  }
 },
 "nbformat": 4,
 "nbformat_minor": 5
}
