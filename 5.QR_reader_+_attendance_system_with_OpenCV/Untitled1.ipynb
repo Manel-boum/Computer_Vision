{
 "cells": [
  {
   "cell_type": "code",
   "execution_count": 2,
   "id": "87828ae7-b2d1-4977-a1cb-6c4e18803767",
   "metadata": {},
   "outputs": [
    {
     "name": "stdout",
     "output_type": "stream",
     "text": [
      "Requirement already satisfied: opencv-python in d:\\yousra\\anaconda2\\lib\\site-packages (4.10.0.84)\n",
      "Requirement already satisfied: numpy>=1.21.2 in d:\\yousra\\anaconda2\\lib\\site-packages (from opencv-python) (1.26.4)\n",
      "Requirement already satisfied: pyzbar in d:\\yousra\\anaconda2\\lib\\site-packages (0.1.9)\n",
      "Requirement already satisfied: matplotlib in d:\\yousra\\anaconda2\\lib\\site-packages (3.9.1)\n",
      "Requirement already satisfied: contourpy>=1.0.1 in d:\\yousra\\anaconda2\\lib\\site-packages (from matplotlib) (1.2.0)\n",
      "Requirement already satisfied: cycler>=0.10 in d:\\yousra\\anaconda2\\lib\\site-packages (from matplotlib) (0.11.0)\n",
      "Requirement already satisfied: fonttools>=4.22.0 in d:\\yousra\\anaconda2\\lib\\site-packages (from matplotlib) (4.51.0)\n",
      "Requirement already satisfied: kiwisolver>=1.3.1 in d:\\yousra\\anaconda2\\lib\\site-packages (from matplotlib) (1.4.4)\n",
      "Requirement already satisfied: numpy>=1.23 in d:\\yousra\\anaconda2\\lib\\site-packages (from matplotlib) (1.26.4)\n",
      "Requirement already satisfied: packaging>=20.0 in d:\\yousra\\anaconda2\\lib\\site-packages (from matplotlib) (23.2)\n",
      "Requirement already satisfied: pillow>=8 in d:\\yousra\\anaconda2\\lib\\site-packages (from matplotlib) (10.3.0)\n",
      "Requirement already satisfied: pyparsing>=2.3.1 in d:\\yousra\\anaconda2\\lib\\site-packages (from matplotlib) (3.0.9)\n",
      "Requirement already satisfied: python-dateutil>=2.7 in d:\\yousra\\anaconda2\\lib\\site-packages (from matplotlib) (2.9.0.post0)\n",
      "Requirement already satisfied: six>=1.5 in d:\\yousra\\anaconda2\\lib\\site-packages (from python-dateutil>=2.7->matplotlib) (1.16.0)\n",
      "Requirement already satisfied: numpy in d:\\yousra\\anaconda2\\lib\\site-packages (1.26.4)\n"
     ]
    },
    {
     "ename": "FileNotFoundError",
     "evalue": "Could not find module 'D:\\Yousra\\anaconda2\\Lib\\site-packages\\pyzbar\\libzbar-64.dll' (or one of its dependencies). Try using the full path with constructor syntax.",
     "output_type": "error",
     "traceback": [
      "\u001b[1;31m---------------------------------------------------------------------------\u001b[0m",
      "\u001b[1;31mFileNotFoundError\u001b[0m                         Traceback (most recent call last)",
      "File \u001b[1;32mD:\\Yousra\\anaconda2\\Lib\\site-packages\\pyzbar\\zbar_library.py:58\u001b[0m, in \u001b[0;36mload\u001b[1;34m()\u001b[0m\n\u001b[0;32m     57\u001b[0m \u001b[38;5;28;01mtry\u001b[39;00m:\n\u001b[1;32m---> 58\u001b[0m     dependencies, libzbar \u001b[38;5;241m=\u001b[39m load_objects(Path(\u001b[38;5;124m'\u001b[39m\u001b[38;5;124m'\u001b[39m))\n\u001b[0;32m     59\u001b[0m \u001b[38;5;28;01mexcept\u001b[39;00m \u001b[38;5;167;01mOSError\u001b[39;00m:\n",
      "File \u001b[1;32mD:\\Yousra\\anaconda2\\Lib\\site-packages\\pyzbar\\zbar_library.py:54\u001b[0m, in \u001b[0;36mload.<locals>.load_objects\u001b[1;34m(directory)\u001b[0m\n\u001b[0;32m     50\u001b[0m deps \u001b[38;5;241m=\u001b[39m [\n\u001b[0;32m     51\u001b[0m     cdll\u001b[38;5;241m.\u001b[39mLoadLibrary(\u001b[38;5;28mstr\u001b[39m(directory\u001b[38;5;241m.\u001b[39mjoinpath(dep)))\n\u001b[0;32m     52\u001b[0m     \u001b[38;5;28;01mfor\u001b[39;00m dep \u001b[38;5;129;01min\u001b[39;00m dependencies\n\u001b[0;32m     53\u001b[0m ]\n\u001b[1;32m---> 54\u001b[0m libzbar \u001b[38;5;241m=\u001b[39m cdll\u001b[38;5;241m.\u001b[39mLoadLibrary(\u001b[38;5;28mstr\u001b[39m(directory\u001b[38;5;241m.\u001b[39mjoinpath(fname)))\n\u001b[0;32m     55\u001b[0m \u001b[38;5;28;01mreturn\u001b[39;00m deps, libzbar\n",
      "File \u001b[1;32mD:\\Yousra\\anaconda2\\Lib\\ctypes\\__init__.py:460\u001b[0m, in \u001b[0;36mLibraryLoader.LoadLibrary\u001b[1;34m(self, name)\u001b[0m\n\u001b[0;32m    459\u001b[0m \u001b[38;5;28;01mdef\u001b[39;00m \u001b[38;5;21mLoadLibrary\u001b[39m(\u001b[38;5;28mself\u001b[39m, name):\n\u001b[1;32m--> 460\u001b[0m     \u001b[38;5;28;01mreturn\u001b[39;00m \u001b[38;5;28mself\u001b[39m\u001b[38;5;241m.\u001b[39m_dlltype(name)\n",
      "File \u001b[1;32mD:\\Yousra\\anaconda2\\Lib\\ctypes\\__init__.py:379\u001b[0m, in \u001b[0;36mCDLL.__init__\u001b[1;34m(self, name, mode, handle, use_errno, use_last_error, winmode)\u001b[0m\n\u001b[0;32m    378\u001b[0m \u001b[38;5;28;01mif\u001b[39;00m handle \u001b[38;5;129;01mis\u001b[39;00m \u001b[38;5;28;01mNone\u001b[39;00m:\n\u001b[1;32m--> 379\u001b[0m     \u001b[38;5;28mself\u001b[39m\u001b[38;5;241m.\u001b[39m_handle \u001b[38;5;241m=\u001b[39m _dlopen(\u001b[38;5;28mself\u001b[39m\u001b[38;5;241m.\u001b[39m_name, mode)\n\u001b[0;32m    380\u001b[0m \u001b[38;5;28;01melse\u001b[39;00m:\n",
      "\u001b[1;31mFileNotFoundError\u001b[0m: Could not find module 'libzbar-64.dll' (or one of its dependencies). Try using the full path with constructor syntax.",
      "\nDuring handling of the above exception, another exception occurred:\n",
      "\u001b[1;31mFileNotFoundError\u001b[0m                         Traceback (most recent call last)",
      "Cell \u001b[1;32mIn[2], line 9\u001b[0m\n\u001b[0;32m      7\u001b[0m \u001b[38;5;28;01mimport\u001b[39;00m \u001b[38;5;21;01mos\u001b[39;00m\n\u001b[0;32m      8\u001b[0m \u001b[38;5;28;01mimport\u001b[39;00m \u001b[38;5;21;01mcv2\u001b[39;00m\n\u001b[1;32m----> 9\u001b[0m \u001b[38;5;28;01mfrom\u001b[39;00m \u001b[38;5;21;01mpyzbar\u001b[39;00m\u001b[38;5;21;01m.\u001b[39;00m\u001b[38;5;21;01mpyzbar\u001b[39;00m \u001b[38;5;28;01mimport\u001b[39;00m decode  \u001b[38;5;66;03m# Lire toutes les informations dans le QR code\u001b[39;00m\n\u001b[0;32m     11\u001b[0m \u001b[38;5;66;03m# Spécifiez le chemin d'accès vers votre dossier\u001b[39;00m\n\u001b[0;32m     12\u001b[0m input_dir \u001b[38;5;241m=\u001b[39m \u001b[38;5;124mr\u001b[39m\u001b[38;5;124m'\u001b[39m\u001b[38;5;124mC:\u001b[39m\u001b[38;5;124m\\\u001b[39m\u001b[38;5;124mUsers\u001b[39m\u001b[38;5;124m\\\u001b[39m\u001b[38;5;124mHP\u001b[39m\u001b[38;5;124m\\\u001b[39m\u001b[38;5;124mDesktop\u001b[39m\u001b[38;5;124m\\\u001b[39m\u001b[38;5;124mComputer_Vision_Engineer\u001b[39m\u001b[38;5;124m\\\u001b[39m\u001b[38;5;124m5.QR_reader_+_attendance_system_with_OpenCV\u001b[39m\u001b[38;5;124m\\\u001b[39m\u001b[38;5;124mdata\u001b[39m\u001b[38;5;124m'\u001b[39m\n",
      "File \u001b[1;32mD:\\Yousra\\anaconda2\\Lib\\site-packages\\pyzbar\\pyzbar.py:7\u001b[0m\n\u001b[0;32m      5\u001b[0m \u001b[38;5;28;01mfrom\u001b[39;00m \u001b[38;5;21;01m.\u001b[39;00m\u001b[38;5;21;01mlocations\u001b[39;00m \u001b[38;5;28;01mimport\u001b[39;00m bounding_box, convex_hull, Point, Rect\n\u001b[0;32m      6\u001b[0m \u001b[38;5;28;01mfrom\u001b[39;00m \u001b[38;5;21;01m.\u001b[39;00m\u001b[38;5;21;01mpyzbar_error\u001b[39;00m \u001b[38;5;28;01mimport\u001b[39;00m PyZbarError\n\u001b[1;32m----> 7\u001b[0m \u001b[38;5;28;01mfrom\u001b[39;00m \u001b[38;5;21;01m.\u001b[39;00m\u001b[38;5;21;01mwrapper\u001b[39;00m \u001b[38;5;28;01mimport\u001b[39;00m (\n\u001b[0;32m      8\u001b[0m     zbar_image_scanner_set_config,\n\u001b[0;32m      9\u001b[0m     zbar_image_scanner_create, zbar_image_scanner_destroy,\n\u001b[0;32m     10\u001b[0m     zbar_image_create, zbar_image_destroy, zbar_image_set_format,\n\u001b[0;32m     11\u001b[0m     zbar_image_set_size, zbar_image_set_data, zbar_scan_image,\n\u001b[0;32m     12\u001b[0m     zbar_image_first_symbol, zbar_symbol_get_data_length,\n\u001b[0;32m     13\u001b[0m     zbar_symbol_get_data, zbar_symbol_get_orientation,\n\u001b[0;32m     14\u001b[0m     zbar_symbol_get_loc_size, zbar_symbol_get_loc_x, zbar_symbol_get_loc_y,\n\u001b[0;32m     15\u001b[0m     zbar_symbol_get_quality, zbar_symbol_next, ZBarConfig, ZBarOrientation,\n\u001b[0;32m     16\u001b[0m     ZBarSymbol, EXTERNAL_DEPENDENCIES,\n\u001b[0;32m     17\u001b[0m )\n\u001b[0;32m     19\u001b[0m __all__ \u001b[38;5;241m=\u001b[39m [\n\u001b[0;32m     20\u001b[0m     \u001b[38;5;124m'\u001b[39m\u001b[38;5;124mdecode\u001b[39m\u001b[38;5;124m'\u001b[39m, \u001b[38;5;124m'\u001b[39m\u001b[38;5;124mPoint\u001b[39m\u001b[38;5;124m'\u001b[39m, \u001b[38;5;124m'\u001b[39m\u001b[38;5;124mRect\u001b[39m\u001b[38;5;124m'\u001b[39m, \u001b[38;5;124m'\u001b[39m\u001b[38;5;124mDecoded\u001b[39m\u001b[38;5;124m'\u001b[39m, \u001b[38;5;124m'\u001b[39m\u001b[38;5;124mZBarSymbol\u001b[39m\u001b[38;5;124m'\u001b[39m, \u001b[38;5;124m'\u001b[39m\u001b[38;5;124mEXTERNAL_DEPENDENCIES\u001b[39m\u001b[38;5;124m'\u001b[39m, \u001b[38;5;124m'\u001b[39m\u001b[38;5;124mORIENTATION_AVAILABLE\u001b[39m\u001b[38;5;124m'\u001b[39m\n\u001b[0;32m     21\u001b[0m ]\n\u001b[0;32m     24\u001b[0m ORIENTATION_AVAILABLE \u001b[38;5;241m=\u001b[39m zbar_symbol_get_orientation \u001b[38;5;129;01mis\u001b[39;00m \u001b[38;5;129;01mnot\u001b[39;00m \u001b[38;5;28;01mNone\u001b[39;00m\n",
      "File \u001b[1;32mD:\\Yousra\\anaconda2\\Lib\\site-packages\\pyzbar\\wrapper.py:151\u001b[0m\n\u001b[0;32m    147\u001b[0m     prototype \u001b[38;5;241m=\u001b[39m CFUNCTYPE(restype, \u001b[38;5;241m*\u001b[39margs)\n\u001b[0;32m    148\u001b[0m     \u001b[38;5;28;01mreturn\u001b[39;00m prototype((fname, load_libzbar()))\n\u001b[1;32m--> 151\u001b[0m zbar_version \u001b[38;5;241m=\u001b[39m zbar_function(\n\u001b[0;32m    152\u001b[0m     \u001b[38;5;124m'\u001b[39m\u001b[38;5;124mzbar_version\u001b[39m\u001b[38;5;124m'\u001b[39m,\n\u001b[0;32m    153\u001b[0m     c_int,\n\u001b[0;32m    154\u001b[0m     c_uint_p,    \u001b[38;5;66;03m# major,\u001b[39;00m\n\u001b[0;32m    155\u001b[0m     c_uint_p,    \u001b[38;5;66;03m# minor\u001b[39;00m\n\u001b[0;32m    156\u001b[0m )\n\u001b[0;32m    158\u001b[0m zbar_set_verbosity \u001b[38;5;241m=\u001b[39m zbar_function(\n\u001b[0;32m    159\u001b[0m     \u001b[38;5;124m'\u001b[39m\u001b[38;5;124mzbar_set_verbosity\u001b[39m\u001b[38;5;124m'\u001b[39m,\n\u001b[0;32m    160\u001b[0m     \u001b[38;5;28;01mNone\u001b[39;00m,\n\u001b[0;32m    161\u001b[0m     c_int\n\u001b[0;32m    162\u001b[0m )\n\u001b[0;32m    164\u001b[0m zbar_image_scanner_create \u001b[38;5;241m=\u001b[39m zbar_function(\n\u001b[0;32m    165\u001b[0m     \u001b[38;5;124m'\u001b[39m\u001b[38;5;124mzbar_image_scanner_create\u001b[39m\u001b[38;5;124m'\u001b[39m,\n\u001b[0;32m    166\u001b[0m     POINTER(zbar_image_scanner)\n\u001b[0;32m    167\u001b[0m )\n",
      "File \u001b[1;32mD:\\Yousra\\anaconda2\\Lib\\site-packages\\pyzbar\\wrapper.py:148\u001b[0m, in \u001b[0;36mzbar_function\u001b[1;34m(fname, restype, *args)\u001b[0m\n\u001b[0;32m    136\u001b[0m \u001b[38;5;250m\u001b[39m\u001b[38;5;124;03m\"\"\"Returns a foreign function exported by `zbar`.\u001b[39;00m\n\u001b[0;32m    137\u001b[0m \n\u001b[0;32m    138\u001b[0m \u001b[38;5;124;03mArgs:\u001b[39;00m\n\u001b[1;32m   (...)\u001b[0m\n\u001b[0;32m    145\u001b[0m \u001b[38;5;124;03m    cddl.CFunctionType: A wrapper around the function.\u001b[39;00m\n\u001b[0;32m    146\u001b[0m \u001b[38;5;124;03m\"\"\"\u001b[39;00m\n\u001b[0;32m    147\u001b[0m prototype \u001b[38;5;241m=\u001b[39m CFUNCTYPE(restype, \u001b[38;5;241m*\u001b[39margs)\n\u001b[1;32m--> 148\u001b[0m \u001b[38;5;28;01mreturn\u001b[39;00m prototype((fname, load_libzbar()))\n",
      "File \u001b[1;32mD:\\Yousra\\anaconda2\\Lib\\site-packages\\pyzbar\\wrapper.py:127\u001b[0m, in \u001b[0;36mload_libzbar\u001b[1;34m()\u001b[0m\n\u001b[0;32m    125\u001b[0m \u001b[38;5;28;01mglobal\u001b[39;00m EXTERNAL_DEPENDENCIES\n\u001b[0;32m    126\u001b[0m \u001b[38;5;28;01mif\u001b[39;00m \u001b[38;5;129;01mnot\u001b[39;00m LIBZBAR:\n\u001b[1;32m--> 127\u001b[0m     libzbar, dependencies \u001b[38;5;241m=\u001b[39m zbar_library\u001b[38;5;241m.\u001b[39mload()\n\u001b[0;32m    128\u001b[0m     LIBZBAR \u001b[38;5;241m=\u001b[39m libzbar\n\u001b[0;32m    129\u001b[0m     EXTERNAL_DEPENDENCIES \u001b[38;5;241m=\u001b[39m [LIBZBAR] \u001b[38;5;241m+\u001b[39m dependencies\n",
      "File \u001b[1;32mD:\\Yousra\\anaconda2\\Lib\\site-packages\\pyzbar\\zbar_library.py:60\u001b[0m, in \u001b[0;36mload\u001b[1;34m()\u001b[0m\n\u001b[0;32m     58\u001b[0m         dependencies, libzbar \u001b[38;5;241m=\u001b[39m load_objects(Path(\u001b[38;5;124m'\u001b[39m\u001b[38;5;124m'\u001b[39m))\n\u001b[0;32m     59\u001b[0m     \u001b[38;5;28;01mexcept\u001b[39;00m \u001b[38;5;167;01mOSError\u001b[39;00m:\n\u001b[1;32m---> 60\u001b[0m         dependencies, libzbar \u001b[38;5;241m=\u001b[39m load_objects(Path(\u001b[38;5;18m__file__\u001b[39m)\u001b[38;5;241m.\u001b[39mparent)\n\u001b[0;32m     61\u001b[0m \u001b[38;5;28;01melse\u001b[39;00m:\n\u001b[0;32m     62\u001b[0m     \u001b[38;5;66;03m# Assume a shared library on the path\u001b[39;00m\n\u001b[0;32m     63\u001b[0m     path \u001b[38;5;241m=\u001b[39m find_library(\u001b[38;5;124m'\u001b[39m\u001b[38;5;124mzbar\u001b[39m\u001b[38;5;124m'\u001b[39m)\n",
      "File \u001b[1;32mD:\\Yousra\\anaconda2\\Lib\\site-packages\\pyzbar\\zbar_library.py:54\u001b[0m, in \u001b[0;36mload.<locals>.load_objects\u001b[1;34m(directory)\u001b[0m\n\u001b[0;32m     48\u001b[0m \u001b[38;5;28;01mdef\u001b[39;00m \u001b[38;5;21mload_objects\u001b[39m(directory):\n\u001b[0;32m     49\u001b[0m     \u001b[38;5;66;03m# Load dependencies before loading libzbar dll\u001b[39;00m\n\u001b[0;32m     50\u001b[0m     deps \u001b[38;5;241m=\u001b[39m [\n\u001b[0;32m     51\u001b[0m         cdll\u001b[38;5;241m.\u001b[39mLoadLibrary(\u001b[38;5;28mstr\u001b[39m(directory\u001b[38;5;241m.\u001b[39mjoinpath(dep)))\n\u001b[0;32m     52\u001b[0m         \u001b[38;5;28;01mfor\u001b[39;00m dep \u001b[38;5;129;01min\u001b[39;00m dependencies\n\u001b[0;32m     53\u001b[0m     ]\n\u001b[1;32m---> 54\u001b[0m     libzbar \u001b[38;5;241m=\u001b[39m cdll\u001b[38;5;241m.\u001b[39mLoadLibrary(\u001b[38;5;28mstr\u001b[39m(directory\u001b[38;5;241m.\u001b[39mjoinpath(fname)))\n\u001b[0;32m     55\u001b[0m     \u001b[38;5;28;01mreturn\u001b[39;00m deps, libzbar\n",
      "File \u001b[1;32mD:\\Yousra\\anaconda2\\Lib\\ctypes\\__init__.py:460\u001b[0m, in \u001b[0;36mLibraryLoader.LoadLibrary\u001b[1;34m(self, name)\u001b[0m\n\u001b[0;32m    459\u001b[0m \u001b[38;5;28;01mdef\u001b[39;00m \u001b[38;5;21mLoadLibrary\u001b[39m(\u001b[38;5;28mself\u001b[39m, name):\n\u001b[1;32m--> 460\u001b[0m     \u001b[38;5;28;01mreturn\u001b[39;00m \u001b[38;5;28mself\u001b[39m\u001b[38;5;241m.\u001b[39m_dlltype(name)\n",
      "File \u001b[1;32mD:\\Yousra\\anaconda2\\Lib\\ctypes\\__init__.py:379\u001b[0m, in \u001b[0;36mCDLL.__init__\u001b[1;34m(self, name, mode, handle, use_errno, use_last_error, winmode)\u001b[0m\n\u001b[0;32m    376\u001b[0m \u001b[38;5;28mself\u001b[39m\u001b[38;5;241m.\u001b[39m_FuncPtr \u001b[38;5;241m=\u001b[39m _FuncPtr\n\u001b[0;32m    378\u001b[0m \u001b[38;5;28;01mif\u001b[39;00m handle \u001b[38;5;129;01mis\u001b[39;00m \u001b[38;5;28;01mNone\u001b[39;00m:\n\u001b[1;32m--> 379\u001b[0m     \u001b[38;5;28mself\u001b[39m\u001b[38;5;241m.\u001b[39m_handle \u001b[38;5;241m=\u001b[39m _dlopen(\u001b[38;5;28mself\u001b[39m\u001b[38;5;241m.\u001b[39m_name, mode)\n\u001b[0;32m    380\u001b[0m \u001b[38;5;28;01melse\u001b[39;00m:\n\u001b[0;32m    381\u001b[0m     \u001b[38;5;28mself\u001b[39m\u001b[38;5;241m.\u001b[39m_handle \u001b[38;5;241m=\u001b[39m handle\n",
      "\u001b[1;31mFileNotFoundError\u001b[0m: Could not find module 'D:\\Yousra\\anaconda2\\Lib\\site-packages\\pyzbar\\libzbar-64.dll' (or one of its dependencies). Try using the full path with constructor syntax."
     ]
    }
   ],
   "source": [
    "# Installer les bibliothèques nécessaires (exécutez ces lignes si elles ne sont pas déjà installées)\n",
    "!pip install opencv-python\n",
    "!pip install pyzbar\n",
    "!pip install matplotlib\n",
    "!pip install numpy\n",
    "\n",
    "import os\n",
    "import cv2\n",
    "from pyzbar.pyzbar import decode  # Lire toutes les informations dans le QR code\n",
    "\n",
    "# Spécifiez le chemin d'accès vers votre dossier\n",
    "input_dir = r'C:\\Users\\HP\\Desktop\\Computer_Vision_Engineer\\5.QR_reader_+_attendance_system_with_OpenCV\\data'\n",
    "\n",
    "# Lire les fichiers dans le dossier\n",
    "for j in sorted(os.listdir(input_dir)):\n",
    "    img = cv2.imread(os.path.join(input_dir, j))\n",
    "    \n",
    "    # Vérifiez que l'image a été chargée correctement\n",
    "    if img is not None:\n",
    "        qr_info = decode(img)  # Lire les informations dans le QR code\n",
    "        print(f\"Fichier: {j}, Informations QR: {qr_info}\")\n",
    "    else:\n",
    "        print(f\"Erreur lors de la lecture de l'image: {j}\")\n"
   ]
  },
  {
   "cell_type": "code",
   "execution_count": null,
   "id": "61d5db1f-a4a8-4ce2-94c9-6889475248c7",
   "metadata": {},
   "outputs": [],
   "source": []
  }
 ],
 "metadata": {
  "kernelspec": {
   "display_name": "Python 3 (ipykernel)",
   "language": "python",
   "name": "python3"
  },
  "language_info": {
   "codemirror_mode": {
    "name": "ipython",
    "version": 3
   },
   "file_extension": ".py",
   "mimetype": "text/x-python",
   "name": "python",
   "nbconvert_exporter": "python",
   "pygments_lexer": "ipython3",
   "version": "3.12.3"
  }
 },
 "nbformat": 4,
 "nbformat_minor": 5
}
