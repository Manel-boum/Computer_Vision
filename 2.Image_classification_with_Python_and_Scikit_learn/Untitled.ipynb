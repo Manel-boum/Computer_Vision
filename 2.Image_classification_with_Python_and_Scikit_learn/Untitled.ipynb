{
 "cells": [
  {
   "cell_type": "code",
   "execution_count": 13,
   "id": "b225d124-b5bc-4aba-825f-dafd8ba82b88",
   "metadata": {},
   "outputs": [
    {
     "name": "stdout",
     "output_type": "stream",
     "text": [
      "Requirement already satisfied: scikit-learn in d:\\yousra\\anaconda\\lib\\site-packages (1.4.2)\n",
      "Requirement already satisfied: numpy>=1.19.5 in d:\\yousra\\anaconda\\lib\\site-packages (from scikit-learn) (1.26.4)\n",
      "Requirement already satisfied: scipy>=1.6.0 in d:\\yousra\\anaconda\\lib\\site-packages (from scikit-learn) (1.13.1)\n",
      "Requirement already satisfied: joblib>=1.2.0 in d:\\yousra\\anaconda\\lib\\site-packages (from scikit-learn) (1.4.2)\n",
      "Requirement already satisfied: threadpoolctl>=2.0.0 in d:\\yousra\\anaconda\\lib\\site-packages (from scikit-learn) (2.2.0)\n",
      "Requirement already satisfied: scikit-image in d:\\yousra\\anaconda\\lib\\site-packages (0.23.2)\n",
      "Requirement already satisfied: numpy>=1.23 in d:\\yousra\\anaconda\\lib\\site-packages (from scikit-image) (1.26.4)\n",
      "Requirement already satisfied: scipy>=1.9 in d:\\yousra\\anaconda\\lib\\site-packages (from scikit-image) (1.13.1)\n",
      "Requirement already satisfied: networkx>=2.8 in d:\\yousra\\anaconda\\lib\\site-packages (from scikit-image) (3.2.1)\n",
      "Requirement already satisfied: pillow>=9.1 in d:\\yousra\\anaconda\\lib\\site-packages (from scikit-image) (10.3.0)\n",
      "Requirement already satisfied: imageio>=2.33 in d:\\yousra\\anaconda\\lib\\site-packages (from scikit-image) (2.33.1)\n",
      "Requirement already satisfied: tifffile>=2022.8.12 in d:\\yousra\\anaconda\\lib\\site-packages (from scikit-image) (2023.4.12)\n",
      "Requirement already satisfied: packaging>=21 in d:\\yousra\\anaconda\\lib\\site-packages (from scikit-image) (23.2)\n",
      "Requirement already satisfied: lazy-loader>=0.4 in d:\\yousra\\anaconda\\lib\\site-packages (from scikit-image) (0.4)\n",
      "Requirement already satisfied: numpy in d:\\yousra\\anaconda\\lib\\site-packages (1.26.4)\n",
      "100.0% of samples were correctly classified\n"
     ]
    }
   ],
   "source": [
    "!pip install scikit-learn\n",
    "!pip install scikit-image\n",
    "!pip install numpy  \n",
    "import numpy as np\n",
    "import os \n",
    "import pickle \n",
    "from skimage.io import imread \n",
    "from skimage.transform import resize \n",
    "from sklearn.model_selection import train_test_split \n",
    "from sklearn.model_selection import GridSearchCV\n",
    "from sklearn.svm import SVC\n",
    "from sklearn.metrics import accuracy_score \n",
    "\n",
    "\n",
    "# to do image classifier, it takes 4 steps : \n",
    "\n",
    "############################################################## prepare the data ####################################################################\n",
    "input_dir = 'C:/Users/HP/Desktop/Computer_Vision_Engineer/2.Image_classification_with_Python_and_Scikit_learn/clf-data'\n",
    "categories = ['empty', 'not_empty']\n",
    "\n",
    "data = []\n",
    "labels = []\n",
    "for category_idx, category in enumerate(categories): \n",
    "    for file in os.listdir(os.path.join(input_dir, category)):\n",
    "        img_path = os.path.join(input_dir, category, file) \n",
    "        img = imread(img_path)\n",
    "        img = resize(img, (15, 15)) # redimesionner l'img \n",
    "        data.append(img.flatten()) #make the image in an one array (flatt) \n",
    "        labels.append(category_idx)\n",
    "\n",
    "data = np.asarray(data) \n",
    "labels = np.asarray(labels) \n",
    "\n",
    "############################################################## train / test split ###################################################################\n",
    "# diviser notre dataset en train and test sets \n",
    "x_train, x_test, y_train, y_test = train_test_split(data, labels, test_size=0.2, shuffle=True, stratify=labels)\n",
    " # test_size=0.2 : dans notre cas on essaie de diviser notre dataset en train and test sets et 0.2 veut dire qu'on prend 20% de notre data pour le test\n",
    " # shuffle = True : Elle garantit que les données sont mélangées aléatoirement avant d'être utilisées par le modèle d'entraînement \n",
    " # stratify=labels : garantit que la répartition des classes dans les sous-ensembles de données (par ex, train and test sets sont proportionnelle à leur répartition dans data d'origine.\n",
    "\n",
    "############################################################## train classifier  ###################################################################\n",
    "classifier = SVC()\n",
    "\n",
    "parameters = [{'gamma': [0.01, 0.001, 0.0001], 'C': [1, 10, 100, 1000]}] #we're gonna to train many image classifier, we have 3 parameters for gamma and 4 parameters for C so we're gonna train 12 image classifier selon la combinaison  \n",
    "\n",
    "grid_search = GridSearchCV(classifier, parameters) \n",
    "\n",
    "grid_search.fit(x_train, y_train) \n",
    "\n",
    "############################################################## test performance  ###################################################################\n",
    "# we're training 12 image classifier \n",
    "best_estimator = grid_search.best_estimator_ # get the best image classifier \n",
    "\n",
    "y_predicition = best_estimator.predict(x_test)\n",
    "\n",
    "score = accuracy_score(y_predicition, y_test)\n",
    "\n",
    "print('{}% of samples were correctly classified'.format(str(score * 100))) # to have % \n",
    "\n",
    "# save the model for other projects en utilisant pickle \n",
    "pickle.dump(best_estimator, open('./model.p', 'wb'))\n",
    "\n"
   ]
  },
  {
   "cell_type": "code",
   "execution_count": null,
   "id": "5f2d48a3-e5c6-44db-b7fa-f8672cc76273",
   "metadata": {},
   "outputs": [],
   "source": []
  }
 ],
 "metadata": {
  "kernelspec": {
   "display_name": "Python 3 (ipykernel)",
   "language": "python",
   "name": "python3"
  },
  "language_info": {
   "codemirror_mode": {
    "name": "ipython",
    "version": 3
   },
   "file_extension": ".py",
   "mimetype": "text/x-python",
   "name": "python",
   "nbconvert_exporter": "python",
   "pygments_lexer": "ipython3",
   "version": "3.12.4"
  }
 },
 "nbformat": 4,
 "nbformat_minor": 5
}
