{
 "cells": [
  {
   "cell_type": "code",
   "execution_count": null,
   "id": "6158986b-cc8d-4ba4-bc2e-94867329f96a",
   "metadata": {},
   "outputs": [],
   "source": [
    "#!pip install easyocr==1.6.2\n",
    "#!pip install matplotlib==3.6.2\n",
    "#!pip install opencv-python-headless==4.5.4.60\n",
    "\n",
    "import cv2\n",
    "import easyocr\n",
    "import matplotlib.pyplot as plt \n",
    "\n",
    "\n",
    "\n",
    "\n",
    "# read image \n",
    "image_path = 'Desktop/Computer_Vision_Engineer/4.Text_detection_with_Python_and_Opencv_OCR_using_EasyOCR/data/test1.png'\n",
    "img = cv2.imread(image_path) \n",
    "\n",
    "\n",
    "# instance text detector \n",
    "reader = easyocr.Reader(['en'], gpu=False) # en = read text in english \n",
    "\n",
    "# detect text on image \n",
    "text = reader.readtext(img)\n",
    "print(text)\n",
    "# draw bbox and text "
   ]
  },
  {
   "cell_type": "code",
   "execution_count": null,
   "id": "710e03e9-10b6-4dbc-a9f8-8889c9ac67b3",
   "metadata": {},
   "outputs": [],
   "source": []
  }
 ],
 "metadata": {
  "kernelspec": {
   "display_name": "Python 3 (ipykernel)",
   "language": "python",
   "name": "python3"
  },
  "language_info": {
   "codemirror_mode": {
    "name": "ipython",
    "version": 3
   },
   "file_extension": ".py",
   "mimetype": "text/x-python",
   "name": "python",
   "nbconvert_exporter": "python",
   "pygments_lexer": "ipython3",
   "version": "3.12.4"
  }
 },
 "nbformat": 4,
 "nbformat_minor": 5
}
